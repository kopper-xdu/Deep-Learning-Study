{
 "cells": [
  {
   "cell_type": "code",
   "execution_count": 1,
   "metadata": {},
   "outputs": [],
   "source": [
    "import torch\n",
    "from torch.utils.data import DataLoader\n",
    "from torchvision import transforms\n",
    "from torchvision.datasets import CIFAR100\n",
    "from torch import nn"
   ]
  },
  {
   "cell_type": "code",
   "execution_count": 2,
   "metadata": {},
   "outputs": [],
   "source": [
    "batch_size = 64\n",
    "epochs = 3\n",
    "lr = 0.01\n",
    "weight_decay = 0.0001\n",
    "device = torch.device('cuda')\n",
    "plot_every = 5\n",
    "valid_every = 20\n",
    "save_every_epoch = 1"
   ]
  },
  {
   "cell_type": "code",
   "execution_count": 3,
   "metadata": {},
   "outputs": [
    {
     "name": "stdout",
     "output_type": "stream",
     "text": [
      "Files already downloaded and verified\n",
      "Files already downloaded and verified\n"
     ]
    }
   ],
   "source": [
    "transform = transforms.Compose([transforms.Resize(224),\n",
    "                                transforms.RandomHorizontalFlip(),\n",
    "                                transforms.ToTensor(),\n",
    "                                transforms.Normalize((0.5, 0.5, 0.5), (0.5, 0.5, 0.5))])\n",
    "\n",
    "train_data = CIFAR100(root='./', train=True, transform=transform, download=True)\n",
    "test_data = CIFAR100(root='./', train=False, transform=transform, download=True)\n",
    "train_loader = DataLoader(train_data, batch_size=batch_size, shuffle=True, num_workers=12)\n",
    "test_loader = DataLoader(test_data, batch_size=batch_size, shuffle=True, num_workers=12)"
   ]
  },
  {
   "cell_type": "code",
   "execution_count": 4,
   "metadata": {},
   "outputs": [],
   "source": [
    "import timm\n",
    "model = timm.create_model('vit_base_patch16_224', pretrained=True)\n",
    "model = nn.Sequential(model, nn.Linear(1000, 100)).to(device)"
   ]
  },
  {
   "cell_type": "code",
   "execution_count": 5,
   "metadata": {},
   "outputs": [],
   "source": [
    "optimizer = torch.optim.SGD(model.parameters(), lr, weight_decay=weight_decay)\n",
    "criterion = nn.CrossEntropyLoss()"
   ]
  },
  {
   "cell_type": "code",
   "execution_count": 6,
   "metadata": {},
   "outputs": [
    {
     "name": "stderr",
     "output_type": "stream",
     "text": [
      "Setting up a new session...\n"
     ]
    }
   ],
   "source": [
    "from visdom import Visdom\n",
    "vis = Visdom(port=6006)"
   ]
  },
  {
   "cell_type": "code",
   "execution_count": 7,
   "metadata": {},
   "outputs": [],
   "source": [
    "def reduce_lr():\n",
    "    lr = optimizer.param_groups[0]['lr'] * 0.1\n",
    "    for param_group in optimizer.param_groups:\n",
    "        param_group[\"lr\"] = lr"
   ]
  },
  {
   "cell_type": "code",
   "execution_count": null,
   "metadata": {},
   "outputs": [],
   "source": [
    "for epoch in range(epochs):\n",
    "    running_loss = 0\n",
    "    for i, (img, label) in enumerate(train_loader, 385):\n",
    "        img, label = img.to(device), label.to(device)\n",
    "        pred = model(img)\n",
    "        loss = criterion(pred, label)\n",
    "        optimizer.zero_grad()\n",
    "        loss.backward()\n",
    "        optimizer.step()\n",
    "        \n",
    "        running_loss += loss.item()\n",
    "        if (i+1) % plot_every == 0:\n",
    "            print(f'epoch: {epoch+1}/{epochs}, iter: {i+1}/{len(train_loader)}, loss: {running_loss/plot_every}')\n",
    "            vis.line(Y=[running_loss/plot_every], X=[i+1+epoch*len(train_loader)], win='train', name='train', update='append',\n",
    "                        opts={'showlegend': True,\n",
    "                              'xlabel': \"iter\",\n",
    "                              'ylabel': \"loss\"})\n",
    "            running_loss = 0\n",
    "            \n",
    "        if (i+1) % valid_every == 0:\n",
    "            with torch.no_grad():\n",
    "                valid_loss = 0\n",
    "                for img, label in test_loader:\n",
    "                    img, label = img.to(device), label.to(device)\n",
    "                    pred = model(img)\n",
    "                    loss = criterion(pred, label)\n",
    "                    valid_loss += loss.item()\n",
    "            \n",
    "                print(f'epoch: {epoch+1}/{epochs}, iter: {i+1}/{len(train_loader)}, valid_loss: {valid_loss/len(test_loader)}')\n",
    "                vis.line(Y=[valid_loss/len(test_loader)], X=[i+1+epoch*len(train_loader)], win='train',\n",
    "                        name='test', update='append', opts={'showlegend': True})"
   ]
  },
  {
   "cell_type": "code",
   "execution_count": 11,
   "metadata": {},
   "outputs": [],
   "source": [
    "reduce_lr()"
   ]
  },
  {
   "cell_type": "code",
   "execution_count": 13,
   "metadata": {},
   "outputs": [
    {
     "name": "stdout",
     "output_type": "stream",
     "text": [
      "Accuracy of the network on the 10000 test images: 91.05%\n"
     ]
    }
   ],
   "source": [
    "model.eval()\n",
    "correct = 0\n",
    "total = 0\n",
    "test_loader = DataLoader(test_data, batch_size=batch_size, shuffle=True, num_workers=12)\n",
    "with torch.no_grad():\n",
    "    for data in test_loader:\n",
    "        images, labels = data\n",
    "        images, labels = images.to(device), labels.to(device)\n",
    "        outputs = model(images)\n",
    "        _, predict = torch.max(outputs.data, 1)\n",
    "        total += labels.size(0)\n",
    "        correct += (predict == labels).sum().item()\n",
    "\n",
    "print('Accuracy of the network on the 10000 test images: {0}%'.format(100 * correct / total))"
   ]
  },
  {
   "cell_type": "code",
   "execution_count": 14,
   "metadata": {},
   "outputs": [],
   "source": [
    "torch.save(model.state_dict(), f'./model_check_points/finished.pt')"
   ]
  },
  {
   "cell_type": "code",
   "execution_count": null,
   "metadata": {},
   "outputs": [],
   "source": []
  }
 ],
 "metadata": {
  "interpreter": {
   "hash": "aebdfc95f66901934e4e20c25b63dc09aa81f8f86f6dd8e6cc476141cbfe7556"
  },
  "kernelspec": {
   "display_name": "Python 3 (ipykernel)",
   "language": "python",
   "name": "python3"
  },
  "language_info": {
   "codemirror_mode": {
    "name": "ipython",
    "version": 3
   },
   "file_extension": ".py",
   "mimetype": "text/x-python",
   "name": "python",
   "nbconvert_exporter": "python",
   "pygments_lexer": "ipython3",
   "version": "3.8.10"
  }
 },
 "nbformat": 4,
 "nbformat_minor": 4
}
