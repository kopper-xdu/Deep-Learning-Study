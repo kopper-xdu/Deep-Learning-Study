{
 "cells": [
  {
   "cell_type": "code",
   "execution_count": 1,
   "metadata": {},
   "outputs": [
    {
     "name": "stderr",
     "output_type": "stream",
     "text": [
      "C:\\Users\\wang\\anaconda3\\envs\\d2l\\lib\\site-packages\\spacy\\util.py:833: UserWarning: [W095] Model 'de_core_news_sm' (3.1.0) was trained with spaCy v3.1 and may not be 100% compatible with the current version (3.2.0). If you see errors or degraded performance, download a newer compatible model or retrain your custom model with the current spaCy version. For more details and available updates, run: python -m spacy validate\n",
      "  warnings.warn(warn_msg)\n"
     ]
    }
   ],
   "source": [
    "import torch\n",
    "import torch.nn as nn\n",
    "from Transformer import Transformer\n",
    "from processData import collate_fn, PAD_IDX, BOS_IDX, EOS_IDX, vocab_transform\n",
    "from torchtext.datasets import Multi30k\n",
    "from torch.utils.data import DataLoader"
   ]
  },
  {
   "cell_type": "code",
   "execution_count": 2,
   "metadata": {},
   "outputs": [],
   "source": [
    "SRC_LANGUAGE = 'de'\n",
    "TGT_LANGUAGE = 'en'\n",
    "src_vocab_size = len(vocab_transform['de'])\n",
    "tgt_vocab_size = len(vocab_transform['en'])\n",
    "\n",
    "device = torch.device('cuda' if torch.cuda.is_available() else 'cpu')\n",
    "epochs = 12\n",
    "batch_size = 128\n",
    "d_model = 512\n",
    "n_head = 8\n",
    "d_ff = 2048\n",
    "n_layers = 3"
   ]
  },
  {
   "cell_type": "code",
   "execution_count": 10,
   "metadata": {},
   "outputs": [],
   "source": [
    "model = Transformer(src_vocab_size, tgt_vocab_size, d_model, n_head, d_ff, n_layers).to(device)\n",
    "criterion = nn.CrossEntropyLoss(ignore_index=PAD_IDX)\n",
    "optimizer = torch.optim.Adam(model.parameters(), lr=1e-4)"
   ]
  },
  {
   "cell_type": "code",
   "execution_count": null,
   "metadata": {},
   "outputs": [],
   "source": [
    "for epoch in range(epochs):\n",
    "    train_iter = Multi30k(split='train', language_pair=(SRC_LANGUAGE, TGT_LANGUAGE))\n",
    "    train_dataloader = DataLoader(train_iter, batch_size=batch_size, collate_fn=collate_fn)\n",
    "\n",
    "    for i, (enc_inputs, dec_inputs) in enumerate(train_dataloader):\n",
    "        enc_inputs, dec_inputs = enc_inputs.to(device), dec_inputs.to(device)\n",
    "\n",
    "        outputs, enc_self_attns, dec_self_attns, dec_enc_attns = model(enc_inputs, dec_inputs[:, :-1])\n",
    "        prob = outputs.max(dim=-1, keepdim=False)[1]\n",
    "        loss = criterion(outputs, dec_inputs[:, 1:].contiguous().view(-1))\n",
    "        optimizer.zero_grad()\n",
    "        loss.backward()\n",
    "        optimizer.step()\n",
    "\n",
    "        if (i + 1) % 50 == 0:\n",
    "            print(f'Epoch: {epoch + 1}, loss = {loss.item()}')"
   ]
  },
  {
   "cell_type": "code",
   "execution_count": 5,
   "metadata": {},
   "outputs": [],
   "source": [
    "torch.save(model.state_dict(), './model.pth')"
   ]
  },
  {
   "cell_type": "code",
   "execution_count": 15,
   "metadata": {},
   "outputs": [
    {
     "data": {
      "text/plain": [
       "<All keys matched successfully>"
      ]
     },
     "execution_count": 15,
     "metadata": {},
     "output_type": "execute_result"
    }
   ],
   "source": [
    "model.load_state_dict(torch.load('./model.pth'))"
   ]
  },
  {
   "cell_type": "code",
   "execution_count": 16,
   "metadata": {},
   "outputs": [],
   "source": [
    "def greedy_decoder(model, enc_input, start_symbol, end_symbol):\n",
    "    enc_outputs, enc_self_attns = model.encoder(enc_input)\n",
    "    dec_input = torch.zeros(1, 0).type_as(enc_input.data)\n",
    "    terminal = False\n",
    "    next_symbol = start_symbol\n",
    "    i = 0\n",
    "    while not terminal and i < 50:\n",
    "        # 预测阶段：dec_input序列会一点点变长（每次添加一个新预测出来的单词）\n",
    "        dec_input = torch.cat([dec_input.to(device), torch.tensor([[next_symbol]], dtype=enc_input.dtype).to(device)],\n",
    "                              -1)\n",
    "        dec_outputs, _, _ = model.decoder(dec_input, enc_input, enc_outputs)\n",
    "        projected = model.projection(dec_outputs)\n",
    "        prob = projected.squeeze(0).max(dim=-1, keepdim=False)[1]\n",
    "        # 增量更新（我们希望重复单词预测结果是一样的）\n",
    "        # 我们在预测是会选择性忽略重复的预测的词，只摘取最新预测的单词拼接到输入序列中\n",
    "        next_word = prob.data[-1]  # 拿出当前预测的单词(数字)。我们用x'_t对应的输出z_t去预测下一个单词的概率，不用z_1,z_2..z_{t-1}\n",
    "        next_symbol = next_word\n",
    "        if next_symbol == end_symbol:\n",
    "            terminal = True\n",
    "        i += 1\n",
    "\n",
    "    greedy_dec_predict = dec_input[:, 1:]\n",
    "    return greedy_dec_predict"
   ]
  },
  {
   "cell_type": "code",
   "execution_count": 17,
   "metadata": {},
   "outputs": [
    {
     "name": "stdout",
     "output_type": "stream",
     "text": [
      "Men playing volleyball , with one player missing the ball but hands still in the air .\n",
      "Men playing volleyball , a man playing a ball , while the other man is kicking his hands in the air .\n"
     ]
    }
   ],
   "source": [
    "test_iter = Multi30k(split='test', language_pair=(SRC_LANGUAGE, TGT_LANGUAGE))\n",
    "test_dataloader = DataLoader(test_iter, batch_size=batch_size, collate_fn=collate_fn)\n",
    "\n",
    "enc_inputs, dec_outputs = next(iter(test_dataloader))\n",
    "enc_input = enc_inputs[11:12].to(device)\n",
    "dec_output = dec_outputs[11:12]\n",
    "\n",
    "greedy_dec_predict = greedy_decoder(model, enc_input, BOS_IDX, EOS_IDX)\n",
    "\n",
    "w1 = [vocab_transform[TGT_LANGUAGE].lookup_token(idx) for idx in dec_output[0] \n",
    "                                            if idx != BOS_IDX and idx != PAD_IDX and idx != EOS_IDX]\n",
    "w2 = [vocab_transform[TGT_LANGUAGE].lookup_token(idx) for idx in greedy_dec_predict[0] \n",
    "                                            if idx != BOS_IDX and idx != PAD_IDX and idx != EOS_IDX]\n",
    "\n",
    "print(' '.join(w1))\n",
    "print(' '.join(w2))"
   ]
  },
  {
   "cell_type": "code",
   "execution_count": null,
   "metadata": {},
   "outputs": [],
   "source": []
  }
 ],
 "metadata": {
  "interpreter": {
   "hash": "aebdfc95f66901934e4e20c25b63dc09aa81f8f86f6dd8e6cc476141cbfe7556"
  },
  "kernelspec": {
   "display_name": "Python 3.9.7",
   "language": "python",
   "name": "python3"
  },
  "language_info": {
   "codemirror_mode": {
    "name": "ipython",
    "version": 3
   },
   "file_extension": ".py",
   "mimetype": "text/x-python",
   "name": "python",
   "nbconvert_exporter": "python",
   "pygments_lexer": "ipython3",
   "version": "3.9.7"
  },
  "orig_nbformat": 4
 },
 "nbformat": 4,
 "nbformat_minor": 2
}
