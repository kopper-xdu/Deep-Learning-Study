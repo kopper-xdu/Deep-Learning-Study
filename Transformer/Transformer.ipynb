{
 "cells": [
  {
   "cell_type": "code",
   "execution_count": 1,
   "metadata": {},
   "outputs": [
    {
     "name": "stderr",
     "output_type": "stream",
     "text": [
      "C:\\Users\\wang\\anaconda3\\envs\\d2l\\lib\\site-packages\\spacy\\util.py:833: UserWarning: [W095] Model 'de_core_news_sm' (3.1.0) was trained with spaCy v3.1 and may not be 100% compatible with the current version (3.2.0). If you see errors or degraded performance, download a newer compatible model or retrain your custom model with the current spaCy version. For more details and available updates, run: python -m spacy validate\n",
      "  warnings.warn(warn_msg)\n"
     ]
    }
   ],
   "source": [
    "import torch\n",
    "import torch.nn as nn\n",
    "from Transformer import Transformer\n",
    "from processData import collate_fn, PAD_IDX, vocab_transform\n",
    "from torchtext.datasets import Multi30k\n",
    "from torch.utils.data import DataLoader"
   ]
  },
  {
   "cell_type": "code",
   "execution_count": 2,
   "metadata": {},
   "outputs": [],
   "source": [
    "SRC_LANGUAGE = 'de'\n",
    "TGT_LANGUAGE = 'en'\n",
    "src_vocab_size = len(vocab_transform['de'])\n",
    "tgt_vocab_size = len(vocab_transform['en'])\n",
    "\n",
    "device = torch.device('cuda' if torch.cuda.is_available() else 'cpu')\n",
    "epochs = 10\n",
    "batch_size = 128\n",
    "d_model = 512\n",
    "n_head = 8\n",
    "d_ff = 2048\n",
    "n_layers = 3"
   ]
  },
  {
   "cell_type": "code",
   "execution_count": 6,
   "metadata": {},
   "outputs": [],
   "source": [
    "model = Transformer(src_vocab_size, tgt_vocab_size, d_model, n_head, d_ff, n_layers).to(device)\n",
    "criterion = nn.CrossEntropyLoss(ignore_index=PAD_IDX)\n",
    "optimizer = torch.optim.Adam(model.parameters(), lr=1e-4)"
   ]
  },
  {
   "cell_type": "code",
   "execution_count": 7,
   "metadata": {},
   "outputs": [
    {
     "name": "stdout",
     "output_type": "stream",
     "text": [
      "Epoch: 1, loss = 2.7161667346954346\n",
      "Epoch: 1, loss = 1.72246515750885\n",
      "Epoch: 1, loss = 1.2473042011260986\n",
      "Epoch: 1, loss = 1.312986969947815\n",
      "Epoch: 2, loss = 0.7550764083862305\n",
      "Epoch: 2, loss = 0.7086830139160156\n",
      "Epoch: 2, loss = 0.5863784551620483\n",
      "Epoch: 2, loss = 0.7209687829017639\n",
      "Epoch: 3, loss = 0.4586000144481659\n",
      "Epoch: 3, loss = 0.45253798365592957\n",
      "Epoch: 3, loss = 0.36540523171424866\n",
      "Epoch: 3, loss = 0.47708404064178467\n",
      "Epoch: 4, loss = 0.3233679234981537\n",
      "Epoch: 4, loss = 0.3235170543193817\n",
      "Epoch: 4, loss = 0.2527376413345337\n",
      "Epoch: 4, loss = 0.3431154191493988\n",
      "Epoch: 5, loss = 0.24506182968616486\n",
      "Epoch: 5, loss = 0.24522532522678375\n",
      "Epoch: 5, loss = 0.18657676875591278\n",
      "Epoch: 5, loss = 0.2624085545539856\n",
      "Epoch: 6, loss = 0.19309698045253754\n",
      "Epoch: 6, loss = 0.19185684621334076\n",
      "Epoch: 6, loss = 0.13875356316566467\n",
      "Epoch: 6, loss = 0.20751777291297913\n",
      "Epoch: 7, loss = 0.15355652570724487\n",
      "Epoch: 7, loss = 0.15084387362003326\n",
      "Epoch: 7, loss = 0.10686091333627701\n",
      "Epoch: 7, loss = 0.16545213758945465\n",
      "Epoch: 8, loss = 0.12166130542755127\n",
      "Epoch: 8, loss = 0.11921711266040802\n",
      "Epoch: 8, loss = 0.08280659466981888\n",
      "Epoch: 8, loss = 0.1351597160100937\n",
      "Epoch: 9, loss = 0.0977049246430397\n",
      "Epoch: 9, loss = 0.09183324873447418\n",
      "Epoch: 9, loss = 0.06311213970184326\n",
      "Epoch: 9, loss = 0.10607212036848068\n",
      "Epoch: 10, loss = 0.0769413486123085\n",
      "Epoch: 10, loss = 0.0726279467344284\n",
      "Epoch: 10, loss = 0.04933297261595726\n",
      "Epoch: 10, loss = 0.08484373986721039\n"
     ]
    }
   ],
   "source": [
    "for epoch in range(epochs):\n",
    "    train_iter = Multi30k(split='train', language_pair=(SRC_LANGUAGE, TGT_LANGUAGE))\n",
    "    train_dataloader = DataLoader(train_iter, batch_size=batch_size, collate_fn=collate_fn)\n",
    "\n",
    "    for i, (enc_inputs, dec_inputs) in enumerate(train_dataloader):\n",
    "        enc_inputs, dec_inputs = enc_inputs.to(device), dec_inputs.to(device)\n",
    "        outputs, enc_self_attns, dec_self_attns, dec_enc_attns = model(enc_inputs, dec_inputs)\n",
    "        loss = criterion(outputs, dec_inputs.contiguous().view(-1))\n",
    "        optimizer.zero_grad()\n",
    "        loss.backward()\n",
    "        optimizer.step()\n",
    "\n",
    "        if (i + 1) % 50 == 0:\n",
    "            print(f'Epoch: {epoch + 1}, loss = {loss.item()}')"
   ]
  },
  {
   "cell_type": "code",
   "execution_count": 12,
   "metadata": {},
   "outputs": [],
   "source": [
    "torch.save(model, './model.pth')"
   ]
  },
  {
   "cell_type": "code",
   "execution_count": null,
   "metadata": {},
   "outputs": [],
   "source": [
    "def greedy_decoder(model, enc_input, start_symbol):\n",
    "    \"\"\"\n",
    "    For simplicity, a Greedy Decoder is Beam search when K=1. This is necessary for inference as we don't know the\n",
    "    target sequence input. Therefore we try to generate the target input word by word, then feed it into the transformer.\n",
    "    Starting Reference: http://nlp.seas.harvard.edu/2018/04/03/attention.html#greedy-decoding\n",
    "    :param model: Transformer Model\n",
    "    :param enc_input: The encoder input\n",
    "    :param start_symbol: The start symbol. In this example it is 'S' which corresponds to index 4\n",
    "    :return: The target input\n",
    "    \"\"\"\n",
    "    enc_outputs, enc_self_attns = model.encoder(enc_input)\n",
    "    dec_input = torch.zeros(1, 0).type_as(enc_input.data)\n",
    "    terminal = False\n",
    "    next_symbol = start_symbol\n",
    "    while not terminal:\n",
    "        # 预测阶段：dec_input序列会一点点变长（每次添加一个新预测出来的单词）\n",
    "        dec_input = torch.cat([dec_input.to(device), torch.tensor([[next_symbol]], dtype=enc_input.dtype).to(device)],\n",
    "                              -1)\n",
    "        dec_outputs, _, _ = model.decoder(dec_input, enc_input, enc_outputs)\n",
    "        projected = model.projection(dec_outputs)\n",
    "        prob = projected.squeeze(0).max(dim=-1, keepdim=False)[1]\n",
    "        # 增量更新（我们希望重复单词预测结果是一样的）\n",
    "        # 我们在预测是会选择性忽略重复的预测的词，只摘取最新预测的单词拼接到输入序列中\n",
    "        next_word = prob.data[-1]  # 拿出当前预测的单词(数字)。我们用x'_t对应的输出z_t去预测下一个单词的概率，不用z_1,z_2..z_{t-1}\n",
    "        next_symbol = next_word\n",
    "        if next_symbol == tgt_vocab[\"E\"]:\n",
    "            terminal = True\n",
    "        # print(next_word)\n",
    "\n",
    "    # greedy_dec_predict = torch.cat(\n",
    "    #     [dec_input.to(device), torch.tensor([[next_symbol]], dtype=enc_input.dtype).to(device)],\n",
    "    #     -1)\n",
    "    greedy_dec_predict = dec_input[:, 1:]\n",
    "    return greedy_dec_predict\n",
    "\n",
    "\n",
    "# ==========================================================================================\n",
    "# 预测阶段\n",
    "enc_inputs, _, _ = next(iter(loader))\n",
    "for i in range(len(enc_inputs)):\n",
    "    greedy_dec_predict = greedy_decoder(model, enc_inputs[i].view(1, -1).to(device), start_symbol=tgt_vocab[\"S\"])\n",
    "    print(enc_inputs[i], '->', greedy_dec_predict.squeeze())\n",
    "    print([src_idx2word[t.item()] for t in enc_inputs[i]], '->',\n",
    "          [idx2word[n.item()] for n in greedy_dec_predict.squeeze()])"
   ]
  }
 ],
 "metadata": {
  "interpreter": {
   "hash": "aebdfc95f66901934e4e20c25b63dc09aa81f8f86f6dd8e6cc476141cbfe7556"
  },
  "kernelspec": {
   "display_name": "Python 3.9.7",
   "language": "python",
   "name": "python3"
  },
  "language_info": {
   "codemirror_mode": {
    "name": "ipython",
    "version": 3
   },
   "file_extension": ".py",
   "mimetype": "text/x-python",
   "name": "python",
   "nbconvert_exporter": "python",
   "pygments_lexer": "ipython3",
   "version": "3.9.7"
  },
  "orig_nbformat": 4
 },
 "nbformat": 4,
 "nbformat_minor": 2
}
